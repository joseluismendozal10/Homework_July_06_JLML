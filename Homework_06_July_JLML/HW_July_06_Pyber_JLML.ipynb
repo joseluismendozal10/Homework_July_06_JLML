{
 "cells": [
  {
   "cell_type": "code",
   "execution_count": 1,
   "metadata": {},
   "outputs": [],
   "source": [
    "%matplotlib inline\n",
    "import matplotlib.pyplot as plt\n",
    "import pandas as pd\n",
    "import numpy as np \n",
    "import matplotlib.lines as mlines"
   ]
  },
  {
   "cell_type": "code",
   "execution_count": 2,
   "metadata": {},
   "outputs": [
    {
     "data": {
      "text/html": [
       "<div>\n",
       "<style scoped>\n",
       "    .dataframe tbody tr th:only-of-type {\n",
       "        vertical-align: middle;\n",
       "    }\n",
       "\n",
       "    .dataframe tbody tr th {\n",
       "        vertical-align: top;\n",
       "    }\n",
       "\n",
       "    .dataframe thead th {\n",
       "        text-align: right;\n",
       "    }\n",
       "</style>\n",
       "<table border=\"1\" class=\"dataframe\">\n",
       "  <thead>\n",
       "    <tr style=\"text-align: right;\">\n",
       "      <th></th>\n",
       "      <th>city</th>\n",
       "      <th>driver_count</th>\n",
       "      <th>type</th>\n",
       "    </tr>\n",
       "  </thead>\n",
       "  <tbody>\n",
       "    <tr>\n",
       "      <th>0</th>\n",
       "      <td>Richardfort</td>\n",
       "      <td>38</td>\n",
       "      <td>Urban</td>\n",
       "    </tr>\n",
       "    <tr>\n",
       "      <th>1</th>\n",
       "      <td>Williamsstad</td>\n",
       "      <td>59</td>\n",
       "      <td>Urban</td>\n",
       "    </tr>\n",
       "    <tr>\n",
       "      <th>2</th>\n",
       "      <td>Port Angela</td>\n",
       "      <td>67</td>\n",
       "      <td>Urban</td>\n",
       "    </tr>\n",
       "  </tbody>\n",
       "</table>\n",
       "</div>"
      ],
      "text/plain": [
       "           city  driver_count   type\n",
       "0   Richardfort            38  Urban\n",
       "1  Williamsstad            59  Urban\n",
       "2   Port Angela            67  Urban"
      ]
     },
     "execution_count": 2,
     "metadata": {},
     "output_type": "execute_result"
    }
   ],
   "source": [
    "city_file = \"city_data.csv\"\n",
    "ride_file = \"ride_data.csv\"\n",
    "city_file_df = pd.read_csv(city_file)\n",
    "ride_file_df = pd.read_csv(ride_file)\n",
    "\n",
    "city_file_df.head(3)"
   ]
  },
  {
   "cell_type": "code",
   "execution_count": 3,
   "metadata": {},
   "outputs": [
    {
     "data": {
      "text/html": [
       "<div>\n",
       "<style scoped>\n",
       "    .dataframe tbody tr th:only-of-type {\n",
       "        vertical-align: middle;\n",
       "    }\n",
       "\n",
       "    .dataframe tbody tr th {\n",
       "        vertical-align: top;\n",
       "    }\n",
       "\n",
       "    .dataframe thead th {\n",
       "        text-align: right;\n",
       "    }\n",
       "</style>\n",
       "<table border=\"1\" class=\"dataframe\">\n",
       "  <thead>\n",
       "    <tr style=\"text-align: right;\">\n",
       "      <th></th>\n",
       "      <th>city</th>\n",
       "      <th>date</th>\n",
       "      <th>fare</th>\n",
       "      <th>ride_id</th>\n",
       "    </tr>\n",
       "  </thead>\n",
       "  <tbody>\n",
       "    <tr>\n",
       "      <th>0</th>\n",
       "      <td>Lake Jonathanshire</td>\n",
       "      <td>2018-01-14 10:14:22</td>\n",
       "      <td>13.83</td>\n",
       "      <td>5739410935873</td>\n",
       "    </tr>\n",
       "    <tr>\n",
       "      <th>1</th>\n",
       "      <td>South Michelleport</td>\n",
       "      <td>2018-03-04 18:24:09</td>\n",
       "      <td>30.24</td>\n",
       "      <td>2343912425577</td>\n",
       "    </tr>\n",
       "    <tr>\n",
       "      <th>2</th>\n",
       "      <td>Port Samanthamouth</td>\n",
       "      <td>2018-02-24 04:29:00</td>\n",
       "      <td>33.44</td>\n",
       "      <td>2005065760003</td>\n",
       "    </tr>\n",
       "  </tbody>\n",
       "</table>\n",
       "</div>"
      ],
      "text/plain": [
       "                 city                 date   fare        ride_id\n",
       "0  Lake Jonathanshire  2018-01-14 10:14:22  13.83  5739410935873\n",
       "1  South Michelleport  2018-03-04 18:24:09  30.24  2343912425577\n",
       "2  Port Samanthamouth  2018-02-24 04:29:00  33.44  2005065760003"
      ]
     },
     "execution_count": 3,
     "metadata": {},
     "output_type": "execute_result"
    }
   ],
   "source": [
    "ride_file_df.head(3)"
   ]
  },
  {
   "cell_type": "code",
   "execution_count": 4,
   "metadata": {},
   "outputs": [
    {
     "data": {
      "text/html": [
       "<div>\n",
       "<style scoped>\n",
       "    .dataframe tbody tr th:only-of-type {\n",
       "        vertical-align: middle;\n",
       "    }\n",
       "\n",
       "    .dataframe tbody tr th {\n",
       "        vertical-align: top;\n",
       "    }\n",
       "\n",
       "    .dataframe thead th {\n",
       "        text-align: right;\n",
       "    }\n",
       "</style>\n",
       "<table border=\"1\" class=\"dataframe\">\n",
       "  <thead>\n",
       "    <tr style=\"text-align: right;\">\n",
       "      <th></th>\n",
       "      <th>city</th>\n",
       "      <th>date</th>\n",
       "      <th>fare</th>\n",
       "      <th>ride_id</th>\n",
       "      <th>driver_count</th>\n",
       "      <th>type</th>\n",
       "    </tr>\n",
       "  </thead>\n",
       "  <tbody>\n",
       "    <tr>\n",
       "      <th>0</th>\n",
       "      <td>Lake Jonathanshire</td>\n",
       "      <td>2018-01-14 10:14:22</td>\n",
       "      <td>13.83</td>\n",
       "      <td>5739410935873</td>\n",
       "      <td>5</td>\n",
       "      <td>Urban</td>\n",
       "    </tr>\n",
       "    <tr>\n",
       "      <th>1</th>\n",
       "      <td>Lake Jonathanshire</td>\n",
       "      <td>2018-04-07 20:51:11</td>\n",
       "      <td>31.25</td>\n",
       "      <td>4441251834598</td>\n",
       "      <td>5</td>\n",
       "      <td>Urban</td>\n",
       "    </tr>\n",
       "    <tr>\n",
       "      <th>2</th>\n",
       "      <td>Lake Jonathanshire</td>\n",
       "      <td>2018-03-09 23:45:55</td>\n",
       "      <td>19.89</td>\n",
       "      <td>2389495660448</td>\n",
       "      <td>5</td>\n",
       "      <td>Urban</td>\n",
       "    </tr>\n",
       "    <tr>\n",
       "      <th>3</th>\n",
       "      <td>Lake Jonathanshire</td>\n",
       "      <td>2018-04-07 18:09:21</td>\n",
       "      <td>24.28</td>\n",
       "      <td>7796805191168</td>\n",
       "      <td>5</td>\n",
       "      <td>Urban</td>\n",
       "    </tr>\n",
       "    <tr>\n",
       "      <th>4</th>\n",
       "      <td>Lake Jonathanshire</td>\n",
       "      <td>2018-01-02 14:14:50</td>\n",
       "      <td>13.89</td>\n",
       "      <td>424254840012</td>\n",
       "      <td>5</td>\n",
       "      <td>Urban</td>\n",
       "    </tr>\n",
       "  </tbody>\n",
       "</table>\n",
       "</div>"
      ],
      "text/plain": [
       "                 city                 date   fare        ride_id  \\\n",
       "0  Lake Jonathanshire  2018-01-14 10:14:22  13.83  5739410935873   \n",
       "1  Lake Jonathanshire  2018-04-07 20:51:11  31.25  4441251834598   \n",
       "2  Lake Jonathanshire  2018-03-09 23:45:55  19.89  2389495660448   \n",
       "3  Lake Jonathanshire  2018-04-07 18:09:21  24.28  7796805191168   \n",
       "4  Lake Jonathanshire  2018-01-02 14:14:50  13.89   424254840012   \n",
       "\n",
       "   driver_count   type  \n",
       "0             5  Urban  \n",
       "1             5  Urban  \n",
       "2             5  Urban  \n",
       "3             5  Urban  \n",
       "4             5  Urban  "
      ]
     },
     "execution_count": 4,
     "metadata": {},
     "output_type": "execute_result"
    }
   ],
   "source": [
    "combined_df = pd.merge(ride_file_df, city_file_df, how='outer', on= 'city')\n",
    "combined_df.head()"
   ]
  },
  {
   "cell_type": "code",
   "execution_count": 5,
   "metadata": {},
   "outputs": [
    {
     "data": {
      "text/plain": [
       "city\n",
       "Amandaburgh      18\n",
       "Barajasview      22\n",
       "Barronchester    16\n",
       "Bethanyland      18\n",
       "Name: ride_id, dtype: int64"
      ]
     },
     "execution_count": 5,
     "metadata": {},
     "output_type": "execute_result"
    }
   ],
   "source": [
    "rides_per_city = combined_df.groupby(\"city\")[\"ride_id\"].count()\n",
    "rides_per_city.head(4)\n"
   ]
  },
  {
   "cell_type": "code",
   "execution_count": 6,
   "metadata": {},
   "outputs": [
    {
     "data": {
      "text/plain": [
       "city\n",
       "Amandaburgh         [Urban]\n",
       "Barajasview         [Urban]\n",
       "Barronchester    [Suburban]\n",
       "Name: type, dtype: object"
      ]
     },
     "execution_count": 6,
     "metadata": {},
     "output_type": "execute_result"
    }
   ],
   "source": [
    "types = combined_df.groupby(\"city\")[\"type\"].unique()\n",
    "types.head(3)"
   ]
  },
  {
   "cell_type": "code",
   "execution_count": 7,
   "metadata": {},
   "outputs": [
    {
     "data": {
      "text/plain": [
       "city\n",
       "Amandaburgh      24.641667\n",
       "Barajasview      25.332273\n",
       "Barronchester    36.422500\n",
       "dtype: float64"
      ]
     },
     "execution_count": 7,
     "metadata": {},
     "output_type": "execute_result"
    }
   ],
   "source": [
    "avg_fare= combined_df.groupby([\"city\"])[\"fare\"].sum() / combined_df.groupby([\"city\"])[\"ride_id\"].count()\n",
    "avg_fare.head(3)"
   ]
  },
  {
   "cell_type": "code",
   "execution_count": 8,
   "metadata": {},
   "outputs": [
    {
     "data": {
      "text/plain": [
       "city\n",
       "Amandaburgh      [12]\n",
       "Barajasview      [26]\n",
       "Barronchester    [11]\n",
       "Name: driver_count, dtype: object"
      ]
     },
     "execution_count": 8,
     "metadata": {},
     "output_type": "execute_result"
    }
   ],
   "source": [
    "drivers= combined_df.groupby(\"city\")[\"driver_count\"].unique()\n",
    "drivers.head(3)"
   ]
  },
  {
   "cell_type": "code",
   "execution_count": 9,
   "metadata": {},
   "outputs": [
    {
     "data": {
      "text/plain": [
       "city\n",
       "Amandaburgh      18\n",
       "Barajasview      22\n",
       "Barronchester    16\n",
       "Name: ride_id, dtype: int64"
      ]
     },
     "execution_count": 9,
     "metadata": {},
     "output_type": "execute_result"
    }
   ],
   "source": [
    "rides = combined_df.groupby(\"city\")[\"ride_id\"].count()\n",
    "rides.head(3)"
   ]
  },
  {
   "cell_type": "code",
   "execution_count": 10,
   "metadata": {},
   "outputs": [
    {
     "data": {
      "text/plain": [
       "city\n",
       "Amandaburgh      18\n",
       "Barajasview      22\n",
       "Barronchester    16\n",
       "Name: ride_id, dtype: int64"
      ]
     },
     "execution_count": 10,
     "metadata": {},
     "output_type": "execute_result"
    }
   ],
   "source": [
    "fare_count = combined_df.groupby([\"city\"])[\"ride_id\"].count()\n",
    "fare_count.head(3)"
   ]
  },
  {
   "cell_type": "code",
   "execution_count": 11,
   "metadata": {},
   "outputs": [
    {
     "data": {
      "text/plain": [
       "city\n",
       "Amandaburgh      443.55\n",
       "Barajasview      557.31\n",
       "Barronchester    582.76\n",
       "Name: fare, dtype: float64"
      ]
     },
     "execution_count": 11,
     "metadata": {},
     "output_type": "execute_result"
    }
   ],
   "source": [
    "fare_sum = combined_df.groupby([\"city\"])[\"fare\"].sum()\n",
    "fare_sum.head(3)"
   ]
  },
  {
   "cell_type": "code",
   "execution_count": 12,
   "metadata": {},
   "outputs": [],
   "source": [
    "summary = {'Type of City':types,\n",
    "           'Average Fare':avg_fare,\n",
    "           'Number of drivers':drivers,\n",
    "           'Number of rides':rides,\n",
    "           'Number of fares':fare_count,\n",
    "           'Fares': fare_sum}"
   ]
  },
  {
   "cell_type": "code",
   "execution_count": 13,
   "metadata": {},
   "outputs": [
    {
     "data": {
      "text/html": [
       "<div>\n",
       "<style scoped>\n",
       "    .dataframe tbody tr th:only-of-type {\n",
       "        vertical-align: middle;\n",
       "    }\n",
       "\n",
       "    .dataframe tbody tr th {\n",
       "        vertical-align: top;\n",
       "    }\n",
       "\n",
       "    .dataframe thead th {\n",
       "        text-align: right;\n",
       "    }\n",
       "</style>\n",
       "<table border=\"1\" class=\"dataframe\">\n",
       "  <thead>\n",
       "    <tr style=\"text-align: right;\">\n",
       "      <th></th>\n",
       "      <th>Type of City</th>\n",
       "      <th>Average Fare</th>\n",
       "      <th>Number of drivers</th>\n",
       "      <th>Number of rides</th>\n",
       "      <th>Number of fares</th>\n",
       "      <th>Fares</th>\n",
       "    </tr>\n",
       "    <tr>\n",
       "      <th>city</th>\n",
       "      <th></th>\n",
       "      <th></th>\n",
       "      <th></th>\n",
       "      <th></th>\n",
       "      <th></th>\n",
       "      <th></th>\n",
       "    </tr>\n",
       "  </thead>\n",
       "  <tbody>\n",
       "    <tr>\n",
       "      <th>Amandaburgh</th>\n",
       "      <td>[Urban]</td>\n",
       "      <td>24.641667</td>\n",
       "      <td>[12]</td>\n",
       "      <td>18</td>\n",
       "      <td>18</td>\n",
       "      <td>443.55</td>\n",
       "    </tr>\n",
       "    <tr>\n",
       "      <th>Barajasview</th>\n",
       "      <td>[Urban]</td>\n",
       "      <td>25.332273</td>\n",
       "      <td>[26]</td>\n",
       "      <td>22</td>\n",
       "      <td>22</td>\n",
       "      <td>557.31</td>\n",
       "    </tr>\n",
       "    <tr>\n",
       "      <th>Barronchester</th>\n",
       "      <td>[Suburban]</td>\n",
       "      <td>36.422500</td>\n",
       "      <td>[11]</td>\n",
       "      <td>16</td>\n",
       "      <td>16</td>\n",
       "      <td>582.76</td>\n",
       "    </tr>\n",
       "    <tr>\n",
       "      <th>Bethanyland</th>\n",
       "      <td>[Suburban]</td>\n",
       "      <td>32.956111</td>\n",
       "      <td>[22]</td>\n",
       "      <td>18</td>\n",
       "      <td>18</td>\n",
       "      <td>593.21</td>\n",
       "    </tr>\n",
       "    <tr>\n",
       "      <th>Bradshawfurt</th>\n",
       "      <td>[Rural]</td>\n",
       "      <td>40.064000</td>\n",
       "      <td>[7]</td>\n",
       "      <td>10</td>\n",
       "      <td>10</td>\n",
       "      <td>400.64</td>\n",
       "    </tr>\n",
       "    <tr>\n",
       "      <th>Brandonfort</th>\n",
       "      <td>[Suburban]</td>\n",
       "      <td>35.437368</td>\n",
       "      <td>[10]</td>\n",
       "      <td>19</td>\n",
       "      <td>19</td>\n",
       "      <td>673.31</td>\n",
       "    </tr>\n",
       "    <tr>\n",
       "      <th>Carriemouth</th>\n",
       "      <td>[Urban]</td>\n",
       "      <td>28.314444</td>\n",
       "      <td>[52]</td>\n",
       "      <td>27</td>\n",
       "      <td>27</td>\n",
       "      <td>764.49</td>\n",
       "    </tr>\n",
       "    <tr>\n",
       "      <th>Christopherfurt</th>\n",
       "      <td>[Urban]</td>\n",
       "      <td>24.501852</td>\n",
       "      <td>[41]</td>\n",
       "      <td>27</td>\n",
       "      <td>27</td>\n",
       "      <td>661.55</td>\n",
       "    </tr>\n",
       "    <tr>\n",
       "      <th>Colemanland</th>\n",
       "      <td>[Suburban]</td>\n",
       "      <td>30.894545</td>\n",
       "      <td>[23]</td>\n",
       "      <td>22</td>\n",
       "      <td>22</td>\n",
       "      <td>679.68</td>\n",
       "    </tr>\n",
       "    <tr>\n",
       "      <th>Davidfurt</th>\n",
       "      <td>[Suburban]</td>\n",
       "      <td>31.995882</td>\n",
       "      <td>[23]</td>\n",
       "      <td>17</td>\n",
       "      <td>17</td>\n",
       "      <td>543.93</td>\n",
       "    </tr>\n",
       "  </tbody>\n",
       "</table>\n",
       "</div>"
      ],
      "text/plain": [
       "                Type of City  Average Fare Number of drivers  Number of rides  \\\n",
       "city                                                                            \n",
       "Amandaburgh          [Urban]     24.641667              [12]               18   \n",
       "Barajasview          [Urban]     25.332273              [26]               22   \n",
       "Barronchester     [Suburban]     36.422500              [11]               16   \n",
       "Bethanyland       [Suburban]     32.956111              [22]               18   \n",
       "Bradshawfurt         [Rural]     40.064000               [7]               10   \n",
       "Brandonfort       [Suburban]     35.437368              [10]               19   \n",
       "Carriemouth          [Urban]     28.314444              [52]               27   \n",
       "Christopherfurt      [Urban]     24.501852              [41]               27   \n",
       "Colemanland       [Suburban]     30.894545              [23]               22   \n",
       "Davidfurt         [Suburban]     31.995882              [23]               17   \n",
       "\n",
       "                 Number of fares   Fares  \n",
       "city                                      \n",
       "Amandaburgh                   18  443.55  \n",
       "Barajasview                   22  557.31  \n",
       "Barronchester                 16  582.76  \n",
       "Bethanyland                   18  593.21  \n",
       "Bradshawfurt                  10  400.64  \n",
       "Brandonfort                   19  673.31  \n",
       "Carriemouth                   27  764.49  \n",
       "Christopherfurt               27  661.55  \n",
       "Colemanland                   22  679.68  \n",
       "Davidfurt                     17  543.93  "
      ]
     },
     "execution_count": 13,
     "metadata": {},
     "output_type": "execute_result"
    }
   ],
   "source": [
    "summary_df = pd.DataFrame(summary)\n",
    "summary_df.head(10)"
   ]
  },
  {
   "cell_type": "code",
   "execution_count": 14,
   "metadata": {},
   "outputs": [
    {
     "data": {
      "text/plain": [
       "Type of City          object\n",
       "Average Fare         float64\n",
       "Number of drivers     object\n",
       "Number of rides        int64\n",
       "Number of fares        int64\n",
       "Fares                float64\n",
       "dtype: object"
      ]
     },
     "execution_count": 14,
     "metadata": {},
     "output_type": "execute_result"
    }
   ],
   "source": [
    "summary_df.dtypes"
   ]
  },
  {
   "cell_type": "code",
   "execution_count": 15,
   "metadata": {},
   "outputs": [],
   "source": [
    "summary_df[\"Number of drivers\"]= summary_df[\"Number of drivers\"].astype(np.int64)\n",
    "summary_df[\"Type of City\"]= summary_df[\"Type of City\"].astype(str)\n",
    "\n",
    "summary_df[\"Type of City\"]= summary_df[\"Type of City\"].replace({\"['Urban']\":\"Urban\",\n",
    "                                                                \"['Suburban']\":\"Suburban\",\n",
    "                                                                \"['Rural']\":\"Rural\"})\n"
   ]
  },
  {
   "cell_type": "code",
   "execution_count": 16,
   "metadata": {},
   "outputs": [
    {
     "data": {
      "text/plain": [
       "Type of City          object\n",
       "Average Fare         float64\n",
       "Number of drivers      int64\n",
       "Number of rides        int64\n",
       "Number of fares        int64\n",
       "Fares                float64\n",
       "dtype: object"
      ]
     },
     "execution_count": 16,
     "metadata": {},
     "output_type": "execute_result"
    }
   ],
   "source": [
    "summary_df.dtypes"
   ]
  },
  {
   "cell_type": "code",
   "execution_count": 17,
   "metadata": {},
   "outputs": [
    {
     "data": {
      "text/html": [
       "<div>\n",
       "<style scoped>\n",
       "    .dataframe tbody tr th:only-of-type {\n",
       "        vertical-align: middle;\n",
       "    }\n",
       "\n",
       "    .dataframe tbody tr th {\n",
       "        vertical-align: top;\n",
       "    }\n",
       "\n",
       "    .dataframe thead th {\n",
       "        text-align: right;\n",
       "    }\n",
       "</style>\n",
       "<table border=\"1\" class=\"dataframe\">\n",
       "  <thead>\n",
       "    <tr style=\"text-align: right;\">\n",
       "      <th></th>\n",
       "      <th>Type of City</th>\n",
       "      <th>Average Fare</th>\n",
       "      <th>Number of drivers</th>\n",
       "      <th>Number of rides</th>\n",
       "      <th>Number of fares</th>\n",
       "      <th>Fares</th>\n",
       "    </tr>\n",
       "    <tr>\n",
       "      <th>city</th>\n",
       "      <th></th>\n",
       "      <th></th>\n",
       "      <th></th>\n",
       "      <th></th>\n",
       "      <th></th>\n",
       "      <th></th>\n",
       "    </tr>\n",
       "  </thead>\n",
       "  <tbody>\n",
       "    <tr>\n",
       "      <th>Amandaburgh</th>\n",
       "      <td>Urban</td>\n",
       "      <td>24.641667</td>\n",
       "      <td>12</td>\n",
       "      <td>18</td>\n",
       "      <td>18</td>\n",
       "      <td>443.55</td>\n",
       "    </tr>\n",
       "    <tr>\n",
       "      <th>Barajasview</th>\n",
       "      <td>Urban</td>\n",
       "      <td>25.332273</td>\n",
       "      <td>26</td>\n",
       "      <td>22</td>\n",
       "      <td>22</td>\n",
       "      <td>557.31</td>\n",
       "    </tr>\n",
       "    <tr>\n",
       "      <th>Barronchester</th>\n",
       "      <td>Suburban</td>\n",
       "      <td>36.422500</td>\n",
       "      <td>11</td>\n",
       "      <td>16</td>\n",
       "      <td>16</td>\n",
       "      <td>582.76</td>\n",
       "    </tr>\n",
       "    <tr>\n",
       "      <th>Bethanyland</th>\n",
       "      <td>Suburban</td>\n",
       "      <td>32.956111</td>\n",
       "      <td>22</td>\n",
       "      <td>18</td>\n",
       "      <td>18</td>\n",
       "      <td>593.21</td>\n",
       "    </tr>\n",
       "    <tr>\n",
       "      <th>Bradshawfurt</th>\n",
       "      <td>Rural</td>\n",
       "      <td>40.064000</td>\n",
       "      <td>7</td>\n",
       "      <td>10</td>\n",
       "      <td>10</td>\n",
       "      <td>400.64</td>\n",
       "    </tr>\n",
       "  </tbody>\n",
       "</table>\n",
       "</div>"
      ],
      "text/plain": [
       "              Type of City  Average Fare  Number of drivers  Number of rides  \\\n",
       "city                                                                           \n",
       "Amandaburgh          Urban     24.641667                 12               18   \n",
       "Barajasview          Urban     25.332273                 26               22   \n",
       "Barronchester     Suburban     36.422500                 11               16   \n",
       "Bethanyland       Suburban     32.956111                 22               18   \n",
       "Bradshawfurt         Rural     40.064000                  7               10   \n",
       "\n",
       "               Number of fares   Fares  \n",
       "city                                    \n",
       "Amandaburgh                 18  443.55  \n",
       "Barajasview                 22  557.31  \n",
       "Barronchester               16  582.76  \n",
       "Bethanyland                 18  593.21  \n",
       "Bradshawfurt                10  400.64  "
      ]
     },
     "execution_count": 17,
     "metadata": {},
     "output_type": "execute_result"
    }
   ],
   "source": [
    "summary_df.head(5)"
   ]
  },
  {
   "cell_type": "code",
   "execution_count": 18,
   "metadata": {},
   "outputs": [
    {
     "data": {
      "text/html": [
       "<div>\n",
       "<style scoped>\n",
       "    .dataframe tbody tr th:only-of-type {\n",
       "        vertical-align: middle;\n",
       "    }\n",
       "\n",
       "    .dataframe tbody tr th {\n",
       "        vertical-align: top;\n",
       "    }\n",
       "\n",
       "    .dataframe thead th {\n",
       "        text-align: right;\n",
       "    }\n",
       "</style>\n",
       "<table border=\"1\" class=\"dataframe\">\n",
       "  <thead>\n",
       "    <tr style=\"text-align: right;\">\n",
       "      <th></th>\n",
       "      <th>Type of City</th>\n",
       "      <th>Average Fare</th>\n",
       "      <th>Number of drivers</th>\n",
       "      <th>Number of rides</th>\n",
       "      <th>Number of fares</th>\n",
       "      <th>Fares</th>\n",
       "      <th>Drivers 2</th>\n",
       "    </tr>\n",
       "    <tr>\n",
       "      <th>city</th>\n",
       "      <th></th>\n",
       "      <th></th>\n",
       "      <th></th>\n",
       "      <th></th>\n",
       "      <th></th>\n",
       "      <th></th>\n",
       "      <th></th>\n",
       "    </tr>\n",
       "  </thead>\n",
       "  <tbody>\n",
       "    <tr>\n",
       "      <th>Amandaburgh</th>\n",
       "      <td>Urban</td>\n",
       "      <td>24.641667</td>\n",
       "      <td>12</td>\n",
       "      <td>18</td>\n",
       "      <td>18</td>\n",
       "      <td>443.55</td>\n",
       "      <td>144</td>\n",
       "    </tr>\n",
       "    <tr>\n",
       "      <th>Barajasview</th>\n",
       "      <td>Urban</td>\n",
       "      <td>25.332273</td>\n",
       "      <td>26</td>\n",
       "      <td>22</td>\n",
       "      <td>22</td>\n",
       "      <td>557.31</td>\n",
       "      <td>676</td>\n",
       "    </tr>\n",
       "    <tr>\n",
       "      <th>Barronchester</th>\n",
       "      <td>Suburban</td>\n",
       "      <td>36.422500</td>\n",
       "      <td>11</td>\n",
       "      <td>16</td>\n",
       "      <td>16</td>\n",
       "      <td>582.76</td>\n",
       "      <td>121</td>\n",
       "    </tr>\n",
       "    <tr>\n",
       "      <th>Bethanyland</th>\n",
       "      <td>Suburban</td>\n",
       "      <td>32.956111</td>\n",
       "      <td>22</td>\n",
       "      <td>18</td>\n",
       "      <td>18</td>\n",
       "      <td>593.21</td>\n",
       "      <td>484</td>\n",
       "    </tr>\n",
       "    <tr>\n",
       "      <th>Bradshawfurt</th>\n",
       "      <td>Rural</td>\n",
       "      <td>40.064000</td>\n",
       "      <td>7</td>\n",
       "      <td>10</td>\n",
       "      <td>10</td>\n",
       "      <td>400.64</td>\n",
       "      <td>49</td>\n",
       "    </tr>\n",
       "  </tbody>\n",
       "</table>\n",
       "</div>"
      ],
      "text/plain": [
       "              Type of City  Average Fare  Number of drivers  Number of rides  \\\n",
       "city                                                                           \n",
       "Amandaburgh          Urban     24.641667                 12               18   \n",
       "Barajasview          Urban     25.332273                 26               22   \n",
       "Barronchester     Suburban     36.422500                 11               16   \n",
       "Bethanyland       Suburban     32.956111                 22               18   \n",
       "Bradshawfurt         Rural     40.064000                  7               10   \n",
       "\n",
       "               Number of fares   Fares  Drivers 2  \n",
       "city                                               \n",
       "Amandaburgh                 18  443.55        144  \n",
       "Barajasview                 22  557.31        676  \n",
       "Barronchester               16  582.76        121  \n",
       "Bethanyland                 18  593.21        484  \n",
       "Bradshawfurt                10  400.64         49  "
      ]
     },
     "execution_count": 18,
     "metadata": {},
     "output_type": "execute_result"
    }
   ],
   "source": [
    "summary_df[\"Drivers 2\"] = summary_df[\"Number of drivers\"] * summary_df[\"Number of drivers\"]\n",
    "summary_df[\"Drivers 2\"]= summary_df[\"Drivers 2\"].astype(np.int64)\n",
    "summary_df.head(5)"
   ]
  },
  {
   "cell_type": "code",
   "execution_count": 19,
   "metadata": {},
   "outputs": [
    {
     "data": {
      "text/plain": [
       "['coral',\n",
       " 'coral',\n",
       " 'skyblue',\n",
       " 'skyblue',\n",
       " 'gold',\n",
       " 'skyblue',\n",
       " 'coral',\n",
       " 'coral',\n",
       " 'skyblue',\n",
       " 'skyblue',\n",
       " 'coral',\n",
       " 'skyblue',\n",
       " 'skyblue',\n",
       " 'coral',\n",
       " 'skyblue',\n",
       " 'skyblue',\n",
       " 'coral',\n",
       " 'gold',\n",
       " 'coral',\n",
       " 'skyblue',\n",
       " 'gold',\n",
       " 'coral',\n",
       " 'coral',\n",
       " 'coral',\n",
       " 'gold',\n",
       " 'coral',\n",
       " 'coral',\n",
       " 'skyblue',\n",
       " 'coral',\n",
       " 'coral',\n",
       " 'coral',\n",
       " 'skyblue',\n",
       " 'coral',\n",
       " 'gold',\n",
       " 'coral',\n",
       " 'gold',\n",
       " 'skyblue',\n",
       " 'skyblue',\n",
       " 'skyblue',\n",
       " 'coral',\n",
       " 'coral',\n",
       " 'skyblue',\n",
       " 'skyblue',\n",
       " 'coral',\n",
       " 'coral',\n",
       " 'coral',\n",
       " 'skyblue',\n",
       " 'gold',\n",
       " 'skyblue',\n",
       " 'coral',\n",
       " 'coral',\n",
       " 'skyblue',\n",
       " 'coral',\n",
       " 'coral',\n",
       " 'skyblue',\n",
       " 'gold',\n",
       " 'skyblue',\n",
       " 'gold',\n",
       " 'skyblue',\n",
       " 'coral',\n",
       " 'gold',\n",
       " 'gold',\n",
       " 'coral',\n",
       " 'coral',\n",
       " 'skyblue',\n",
       " 'coral',\n",
       " 'coral',\n",
       " 'skyblue',\n",
       " 'skyblue',\n",
       " 'coral',\n",
       " 'gold',\n",
       " 'coral',\n",
       " 'coral',\n",
       " 'coral',\n",
       " 'coral',\n",
       " 'coral',\n",
       " 'skyblue',\n",
       " 'gold',\n",
       " 'coral',\n",
       " 'coral',\n",
       " 'coral',\n",
       " 'coral',\n",
       " 'coral',\n",
       " 'coral',\n",
       " 'skyblue',\n",
       " 'coral',\n",
       " 'coral',\n",
       " 'coral',\n",
       " 'skyblue',\n",
       " 'skyblue',\n",
       " 'coral',\n",
       " 'coral',\n",
       " 'gold',\n",
       " 'coral',\n",
       " 'coral',\n",
       " 'gold',\n",
       " 'coral',\n",
       " 'coral',\n",
       " 'gold',\n",
       " 'skyblue',\n",
       " 'gold',\n",
       " 'coral',\n",
       " 'skyblue',\n",
       " 'skyblue',\n",
       " 'coral',\n",
       " 'coral',\n",
       " 'coral',\n",
       " 'coral',\n",
       " 'coral',\n",
       " 'skyblue',\n",
       " 'gold',\n",
       " 'coral',\n",
       " 'coral',\n",
       " 'skyblue',\n",
       " 'coral',\n",
       " 'coral',\n",
       " 'coral',\n",
       " 'skyblue',\n",
       " 'coral',\n",
       " 'coral']"
      ]
     },
     "execution_count": 19,
     "metadata": {},
     "output_type": "execute_result"
    }
   ],
   "source": [
    "colors = (\"coral\", \"skyblue\", \"gold\")\n",
    "def color_attribute(typ):\n",
    "    colors={\"Urban\":\"coral\",\"Suburban\":\"skyblue\",\"Rural\":\"gold\"}\n",
    "    return colors.get(typ,'white')\n",
    "color_type = list()\n",
    "qty_type = len(summary_df[\"Type of City\"])\n",
    "for i in range(qty_type):\n",
    "    color_type.append(color_attribute(summary_df[\"Type of City\"][i]))\n",
    "color_type"
   ]
  },
  {
   "cell_type": "markdown",
   "metadata": {},
   "source": [
    "# Bubble Plot of Ride Sharing Data"
   ]
  },
  {
   "cell_type": "code",
   "execution_count": 20,
   "metadata": {},
   "outputs": [
    {
     "data": {
      "image/png": "[encoded data removed]",
      "text/plain": [
       "<Figure size 432x288 with 1 Axes>"
      ]
     },
     "metadata": {
      "needs_background": "light"
     },
     "output_type": "display_data"
    }
   ],
   "source": [
    "plt.scatter(x = summary_df[\"Number of rides\"],\n",
    "           y = summary_df[\"Average Fare\"],\n",
    "           s = summary_df[\"Drivers 2\"], \n",
    "           c = color_type, alpha = 0.8, edgecolors = \"black\")\n",
    "plt.title(\"Pyber Ride Sharing Data (2016)\")\n",
    "plt.xlabel(\"Total Number of Rides (Per City)\")\n",
    "plt.ylabel(\"Average fare ($)\")\n",
    "plt.figtext(.95, .6,\"Note: Circle size correlates with driver count per city.\")\n",
    "plt.grid(b=True,which='major',color=\"gray\",axis='both',)\n",
    "city=[\"Urban\",\"Suburban\",\"Rural\"]\n",
    "legend = list()\n",
    "for x in range(len(colors)):legend.append(mlines.Line2D([0], [0], linestyle='none', marker='o', alpha=0.8, markersize=6,\n",
    "                                                        markerfacecolor=colors[x]))\n",
    "legend1 = plt.legend(legend, city, numpoints=1, fontsize=10, loc='upper right', title = 'City Types', shadow=True)\n",
    "\n",
    "plt.show()"
   ]
  },
  {
   "cell_type": "markdown",
   "metadata": {},
   "source": [
    "#  Total Fares by City Type"
   ]
  },
  {
   "cell_type": "code",
   "execution_count": 21,
   "metadata": {},
   "outputs": [
    {
     "data": {
      "text/plain": [
       "Type of City\n",
       "Rural        6.811493\n",
       "Suburban    30.463872\n",
       "Urban       62.724635\n",
       "Name: Fares, dtype: float64"
      ]
     },
     "execution_count": 21,
     "metadata": {},
     "output_type": "execute_result"
    }
   ],
   "source": [
    "fares_by_city = summary_df.groupby(\"Type of City\")[\"Fares\"].sum() / summary_df[\"Fares\"].sum() * 100\n",
    "fares_by_city"
   ]
  },
  {
   "cell_type": "code",
   "execution_count": 22,
   "metadata": {},
   "outputs": [
    {
     "data": {
      "image/png": "[encoded data removed]",
      "text/plain": [
       "<Figure size 432x288 with 1 Axes>"
      ]
     },
     "metadata": {},
     "output_type": "display_data"
    }
   ],
   "source": [
    "type_city = [\"Rural\", \"Suburban\", \"Urban\"]\n",
    "percentages = fares_by_city\n",
    "colors = [\"gold\", \"skyblue\", \"salmon\"]\n",
    "explode = (0,0,0.1)\n",
    "\n",
    "\n",
    "plt.pie(percentages, explode=explode, labels=type_city, colors=colors, autopct='%1.1f%%',\n",
    "        shadow=True,startangle=180,textprops={'color':\"black\",'fontsize': 14},)\n",
    "plt.axis(\"equal\")\n",
    "plt.title(\"% of Total Fares by City Type\")\n",
    "plt.show()"
   ]
  },
  {
   "cell_type": "markdown",
   "metadata": {},
   "source": [
    "#  Total Rides by City Type"
   ]
  },
  {
   "cell_type": "code",
   "execution_count": 23,
   "metadata": {},
   "outputs": [
    {
     "data": {
      "text/plain": [
       "Type of City\n",
       "Rural        5.263158\n",
       "Suburban    26.315789\n",
       "Urban       68.421053\n",
       "Name: Number of rides, dtype: float64"
      ]
     },
     "execution_count": 23,
     "metadata": {},
     "output_type": "execute_result"
    }
   ],
   "source": [
    "rides_by_city=summary_df.groupby(\"Type of City\")[\"Number of rides\"].sum()/summary_df[\"Number of rides\"].sum()*100\n",
    "rides_by_city"
   ]
  },
  {
   "cell_type": "code",
   "execution_count": 24,
   "metadata": {},
   "outputs": [
    {
     "data": {
      "image/png": "[encoded data removed]",
      "text/plain": [
       "<Figure size 432x288 with 1 Axes>"
      ]
     },
     "metadata": {},
     "output_type": "display_data"
    }
   ],
   "source": [
    "type_city = [\"Rural\", \"Suburban\", \"Urban\"]\n",
    "percentages = rides_by_city\n",
    "colors = [\"gold\", \"skyblue\", \"salmon\"]\n",
    "explode = (0,0,0.1)\n",
    "\n",
    "\n",
    "plt.pie(percentages, explode=explode, labels=type_city, colors=colors, autopct='%1.1f%%',\n",
    "        shadow=True,startangle=180,textprops={'color':\"black\",'fontsize': 14},)\n",
    "plt.axis(\"equal\")\n",
    "plt.title(\"% of Total Rides by City Type\")\n",
    "plt.show()"
   ]
  },
  {
   "cell_type": "markdown",
   "metadata": {},
   "source": [
    "#  Total Drivers by City Type"
   ]
  },
  {
   "cell_type": "code",
   "execution_count": 25,
   "metadata": {},
   "outputs": [
    {
     "data": {
      "text/plain": [
       "Type of City\n",
       "Rural        2.623613\n",
       "Suburban    16.481668\n",
       "Urban       80.894719\n",
       "Name: Number of drivers, dtype: float64"
      ]
     },
     "execution_count": 25,
     "metadata": {},
     "output_type": "execute_result"
    }
   ],
   "source": [
    "drivers_by_city = summary_df.groupby(\"Type of City\")[\"Number of drivers\"].sum() / summary_df[\"Number of drivers\"].sum() * 100\n",
    "drivers_by_city"
   ]
  },
  {
   "cell_type": "code",
   "execution_count": 26,
   "metadata": {},
   "outputs": [
    {
     "data": {
      "image/png": "[encoded data removed]",
      "text/plain": [
       "<Figure size 432x288 with 1 Axes>"
      ]
     },
     "metadata": {},
     "output_type": "display_data"
    }
   ],
   "source": [
    "type_city = [\"Rural\", \"Suburban\", \"Urban\"]\n",
    "percentages = drivers_by_city\n",
    "colors = [\"gold\", \"skyblue\", \"salmon\"]\n",
    "explode = (0,0,0.1)\n",
    "\n",
    "plt.pie(percentages, explode=explode, labels=type_city, colors=colors, autopct='%1.1f%%',\n",
    "        shadow=True,startangle=180,textprops={'color':\"black\",'fontsize': 14},)\n",
    "plt.axis(\"equal\")\n",
    "plt.title(\"% of Total Drivers by City Type\")\n",
    "plt.show()"
   ]
  }
 ],
 "metadata": {
  "kernelspec": {
   "display_name": "Python 3",
   "language": "python",
   "name": "python3"
  },
  "language_info": {
   "codemirror_mode": {
    "name": "ipython",
    "version": 3
   },
   "file_extension": ".py",
   "mimetype": "text/x-python",
   "name": "python",
   "nbconvert_exporter": "python",
   "pygments_lexer": "ipython3",
   "version": "3.7.3"
  }
 },
 "nbformat": 4,
 "nbformat_minor": 2
}
